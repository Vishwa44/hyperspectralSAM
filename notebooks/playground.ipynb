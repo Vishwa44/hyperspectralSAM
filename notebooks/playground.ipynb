{
 "cells": [
  {
   "cell_type": "code",
   "execution_count": 30,
   "metadata": {},
   "outputs": [],
   "source": [
    "import numpy as np\n",
    "import tifffile\n",
    "from scipy.ndimage import label"
   ]
  },
  {
   "cell_type": "code",
   "execution_count": 45,
   "metadata": {},
   "outputs": [
    {
     "name": "stderr",
     "output_type": "stream",
     "text": [
      "Matplotlib is building the font cache; this may take a moment.\n"
     ]
    }
   ],
   "source": [
    "import matplotlib.pyplot as plt"
   ]
  },
  {
   "cell_type": "code",
   "execution_count": 66,
   "metadata": {},
   "outputs": [],
   "source": [
    "tiff_data = tifffile.imread(\"/Users/ishaanshivhare/Desktop/HSAM/SmallEarthNet_labelled/Reference_Maps/S2A_MSIL2A_20170613T101031_N9999_R022_T33UUP/S2A_MSIL2A_20170613T101031_N9999_R022_T33UUP_26_57/S2A_MSIL2A_20170613T101031_N9999_R022_T33UUP_26_57_reference_map.tif\")"
   ]
  },
  {
   "cell_type": "code",
   "execution_count": 67,
   "metadata": {},
   "outputs": [
    {
     "data": {
      "text/plain": [
       "(120, 120)"
      ]
     },
     "execution_count": 67,
     "metadata": {},
     "output_type": "execute_result"
    }
   ],
   "source": [
    "np_mask = np.array(tiff_data)\n",
    "np_mask.shape"
   ]
  },
  {
   "cell_type": "code",
   "execution_count": null,
   "metadata": {},
   "outputs": [
    {
     "data": {
      "text/plain": [
       "array([[211, 211, 211, ..., 313, 313, 313],\n",
       "       [211, 211, 211, ..., 313, 313, 313],\n",
       "       [211, 211, 211, ..., 313, 313, 313],\n",
       "       ...,\n",
       "       [211, 211, 211, ..., 311, 311, 311],\n",
       "       [211, 211, 211, ..., 311, 311, 311],\n",
       "       [211, 211, 211, ..., 311, 311, 311]], dtype=uint16)"
      ]
     },
     "execution_count": 17,
     "metadata": {},
     "output_type": "execute_result"
    }
   ],
   "source": [
    "# np_data"
   ]
  },
  {
   "cell_type": "code",
   "execution_count": null,
   "metadata": {},
   "outputs": [
    {
     "name": "stdout",
     "output_type": "stream",
     "text": [
      "[211 231 311 313]\n"
     ]
    }
   ],
   "source": [
    "# unique_values = np.unique(np_data)\n",
    "# print(unique_values)"
   ]
  },
  {
   "cell_type": "code",
   "execution_count": null,
   "metadata": {},
   "outputs": [
    {
     "data": {
      "text/plain": [
       "array([[0, 0, 0, ..., 0, 0, 0],\n",
       "       [0, 0, 0, ..., 0, 0, 0],\n",
       "       [0, 0, 0, ..., 0, 0, 0],\n",
       "       ...,\n",
       "       [0, 0, 0, ..., 0, 0, 0],\n",
       "       [0, 0, 0, ..., 0, 0, 0],\n",
       "       [0, 0, 0, ..., 0, 0, 0]])"
      ]
     },
     "execution_count": 39,
     "metadata": {},
     "output_type": "execute_result"
    }
   ],
   "source": [
    "# class_mask = np.where(np_data == 231, 1, 0)\n",
    "# class_mask"
   ]
  },
  {
   "cell_type": "code",
   "execution_count": null,
   "metadata": {},
   "outputs": [
    {
     "data": {
      "text/plain": [
       "2"
      ]
     },
     "execution_count": 40,
     "metadata": {},
     "output_type": "execute_result"
    }
   ],
   "source": [
    "# labeled_4, num_features_4 = label(class_mask)\n",
    "# num_features_4"
   ]
  },
  {
   "cell_type": "code",
   "execution_count": null,
   "metadata": {},
   "outputs": [
    {
     "data": {
      "text/plain": [
       "2"
      ]
     },
     "execution_count": 41,
     "metadata": {},
     "output_type": "execute_result"
    }
   ],
   "source": [
    "# structure_8 = np.ones((3, 3))  # 8-connectivity kernel\n",
    "# labeled_8, num_features_8 = label(class_mask, structure=structure_8)\n",
    "# num_features_8"
   ]
  },
  {
   "cell_type": "code",
   "execution_count": null,
   "metadata": {},
   "outputs": [
    {
     "data": {
      "text/plain": [
       "array([0, 1, 2], dtype=int32)"
      ]
     },
     "execution_count": 47,
     "metadata": {},
     "output_type": "execute_result"
    }
   ],
   "source": [
    "# np.unique(labeled_8)"
   ]
  },
  {
   "cell_type": "code",
   "execution_count": null,
   "metadata": {},
   "outputs": [
    {
     "data": {
      "image/png": "[encoded data removed]",
      "text/plain": [
       "<Figure size 1500x500 with 3 Axes>"
      ]
     },
     "metadata": {},
     "output_type": "display_data"
    }
   ],
   "source": [
    "# # Plot results\n",
    "# fig, axs = plt.subplots(1, 3, figsize=(15, 5))\n",
    "\n",
    "# axs[0].imshow(class_mask, cmap='gray')\n",
    "# axs[0].set_title(\"Original Binary Mask\")\n",
    "# axs[0].axis('off')\n",
    "\n",
    "# axs[1].imshow(labeled_4, cmap='nipy_spectral')\n",
    "# axs[1].set_title(f\"4-Connectivity\\nRegions: {num_features_4}\")\n",
    "# axs[1].axis('off')\n",
    "\n",
    "# axs[2].imshow(labeled_8, cmap='nipy_spectral')\n",
    "# axs[2].set_title(f\"8-Connectivity\\nRegions: {num_features_8}\")\n",
    "# axs[2].axis('off')\n",
    "\n",
    "# plt.tight_layout()\n",
    "# plt.show()"
   ]
  },
  {
   "cell_type": "code",
   "execution_count": null,
   "metadata": {},
   "outputs": [],
   "source": [
    "# structure_8 = np.ones((3, 3))  # 8-connectivity kernel\n",
    "# class_dict = {}\n",
    "# for each_value in unique_values:\n",
    "#     class_mask = np.where(np_data == each_value, 1, 0)\n",
    "#     labeled, num_features = label(class_mask, structure=structure_8)\n",
    "#     obj_arr = []\n",
    "#     for i in range(1, num_features+1):\n",
    "#         each_obj_mask = np.where(labeled == i, 1, 0)\n",
    "#         obj_arr.append(each_obj_mask)\n",
    "#     class_dict[each_value] = obj_arr"
   ]
  },
  {
   "cell_type": "code",
   "execution_count": 60,
   "metadata": {},
   "outputs": [],
   "source": [
    "def get_centroid(obj_mask):\n",
    "    indices = np.argwhere(obj_mask == 1)\n",
    "    centroid = np.mean(indices, axis=0)\n",
    "    return tuple(centroid.astype(int))  # Convert to integer coordinates"
   ]
  },
  {
   "cell_type": "code",
   "execution_count": 61,
   "metadata": {},
   "outputs": [],
   "source": [
    "def get_random_point(obj_mask):\n",
    "    indices = np.argwhere(obj_mask == 1)\n",
    "    random_index = np.random.choice(len(indices))\n",
    "    return tuple(indices[random_index])  # Return a random pixel's coordinates"
   ]
  },
  {
   "cell_type": "code",
   "execution_count": null,
   "metadata": {},
   "outputs": [],
   "source": [
    "# TODO: Account for 999 class (unlabelled)\n",
    "def process_ref_maps(tiff_map):\n",
    "    \n",
    "    # Convert tiff map to np array\n",
    "    np_map = np.array(tiff_map)\n",
    "\n",
    "    # Get list of classes present in this map\n",
    "    unique_values = np.unique(np_map)\n",
    "    structure_8 = np.ones((3, 3))  # 8-connectivity kernel\n",
    "    \n",
    "    class_dict = {}\n",
    "    prompts = {}\n",
    "    for each_value in unique_values:\n",
    "        # class_mask = np.where(np_map == each_value, 1, 0)\n",
    "        class_mask = (np_map == each_value).astype(int)\n",
    "        labeled, num_features = label(class_mask, structure=structure_8)\n",
    "        obj_arr = []\n",
    "        obj_prompts = []\n",
    "        for i in range(1, num_features+1):\n",
    "            # each_obj_mask = np.where(labeled == i, 1, 0)\n",
    "            each_obj_mask = (labeled == i).astype(int)\n",
    "            obj_arr.append(each_obj_mask)\n",
    "            centroid = get_centroid(each_obj_mask)\n",
    "            random_point = get_random_point(each_obj_mask)        \n",
    "            obj_prompts.append({\"centroid\": centroid, \"random_point\": random_point})\n",
    "    \n",
    "        class_dict[each_value] = obj_arr\n",
    "        prompts[each_value] = obj_prompts\n",
    "    \n",
    "    return class_dict, prompts\n"
   ]
  },
  {
   "cell_type": "code",
   "execution_count": 55,
   "metadata": {},
   "outputs": [],
   "source": [
    "eg_dict = process_ref_maps(tiff_data)"
   ]
  },
  {
   "cell_type": "code",
   "execution_count": 56,
   "metadata": {},
   "outputs": [
    {
     "name": "stdout",
     "output_type": "stream",
     "text": [
      "211\n",
      "1\n",
      "231\n",
      "2\n",
      "311\n",
      "1\n",
      "313\n",
      "1\n"
     ]
    }
   ],
   "source": [
    "for each_class in eg_dict.keys():\n",
    "    print(each_class)\n",
    "    print(len(eg_dict[each_class]))"
   ]
  },
  {
   "cell_type": "code",
   "execution_count": 85,
   "metadata": {},
   "outputs": [],
   "source": [
    "tiff_img = tifffile.imread('/Users/ishaanshivhare/Desktop/HSAM/SmallEarthNet_labelled/SmallEarthNet-S2/S2A_MSIL2A_20170613T101031_N9999_R022_T33UUP/S2A_MSIL2A_20170613T101031_N9999_R022_T33UUP_27_55/S2A_MSIL2A_20170613T101031_N9999_R022_T33UUP_27_55_B8A.tif')"
   ]
  },
  {
   "cell_type": "code",
   "execution_count": 86,
   "metadata": {},
   "outputs": [],
   "source": [
    "np_b01 = np.array(tiff_img)"
   ]
  },
  {
   "cell_type": "code",
   "execution_count": 87,
   "metadata": {},
   "outputs": [
    {
     "data": {
      "text/plain": [
       "(60, 60)"
      ]
     },
     "execution_count": 87,
     "metadata": {},
     "output_type": "execute_result"
    }
   ],
   "source": [
    "np_b01.shape"
   ]
  },
  {
   "cell_type": "code",
   "execution_count": null,
   "metadata": {},
   "outputs": [],
   "source": [
    "# NOTE: BANDS 1 & 9 are smaller resolution: which we will ignore.\n"
   ]
  }
 ],
 "metadata": {
  "kernelspec": {
   "display_name": "Python 3 (ipykernel)",
   "language": "python",
   "name": "python3"
  },
  "language_info": {
   "codemirror_mode": {
    "name": "ipython",
    "version": 3
   },
   "file_extension": ".py",
   "mimetype": "text/x-python",
   "name": "python",
   "nbconvert_exporter": "python",
   "pygments_lexer": "ipython3",
   "version": "3.9.18"
  }
 },
 "nbformat": 4,
 "nbformat_minor": 4
}
